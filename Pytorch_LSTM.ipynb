{
 "cells": [
  {
   "cell_type": "markdown",
   "id": "9fe7c43f",
   "metadata": {},
   "source": [
    "1. Preprocess\n",
    "2. Data Loader\n",
    "3. Model define"
   ]
  },
  {
   "cell_type": "markdown",
   "id": "27d8d602",
   "metadata": {},
   "source": [
    "# LSTM"
   ]
  },
  {
   "cell_type": "markdown",
   "id": "8d9455ff",
   "metadata": {},
   "source": [
    "* https://github.com/SheezaShabbir/Time-series-Analysis-using-LSTM-RNN-and-GRU/blob/main/Pytorch_LSTMs%2CRNN%2CGRU_for_time_series_data.ipynb\n",
    "* https://github.com/vincrichard/LSTM-AutoEncoder-Unsupervised-Anomaly-Detection/blob/master/DataChallengeReport_VincentRichard.ipynb\n",
    "* https://github.com/yakhyo/pytorch-tutorials/blob/main/tutorials/03-intermediate/04-lstm-network/main.py\n",
    "* https://github.com/yakhyo/pytorch-tutorials/blob/main/tutorials/03-intermediate/05-var-auto-encode/main.py\n",
    "* https://github.com/vincrichard/LSTM-AutoEncoder-Unsupervised-Anomaly-Detection/blob/master/DataChallengeReport_VincentRichard.ipynb"
   ]
  },
  {
   "cell_type": "code",
   "execution_count": 1,
   "id": "08d7a8a5",
   "metadata": {},
   "outputs": [],
   "source": [
    "import torch\n",
    "from torch.utils.data import Dataset, DataLoader, TensorDataset\n",
    "import numpy as np\n",
    "import pandas as pd\n",
    "import torch.nn as nn\n",
    "from torchsummary import summary\n",
    "import torch.optim as optim\n",
    "from tqdm.auto import tqdm\n",
    "from matplotlib import pyplot as plt"
   ]
  },
  {
   "cell_type": "markdown",
   "id": "30431037",
   "metadata": {},
   "source": [
    "## 1. Preprocessing"
   ]
  },
  {
   "cell_type": "code",
   "execution_count": 3,
   "id": "b0a380f8",
   "metadata": {},
   "outputs": [],
   "source": [
    "df = pd.read_csv('/home/user/Desktop/Pytorch/training_spiral.csv')\n",
    "feature_list = ['Fx','Fy','Fz','Mx','My']\n",
    "TIMESTEP = 50\n",
    "BATCH_SIZE = 32"
   ]
  },
  {
   "cell_type": "code",
   "execution_count": 4,
   "id": "22aec7b2",
   "metadata": {},
   "outputs": [
    {
     "data": {
      "text/plain": [
       "(357823, 20)"
      ]
     },
     "execution_count": 4,
     "metadata": {},
     "output_type": "execute_result"
    }
   ],
   "source": [
    "df.shape"
   ]
  },
  {
   "cell_type": "code",
   "execution_count": 5,
   "id": "93f445ef",
   "metadata": {},
   "outputs": [],
   "source": [
    "df = df.iloc[:50000]"
   ]
  },
  {
   "cell_type": "code",
   "execution_count": 6,
   "id": "6fdf4c99",
   "metadata": {},
   "outputs": [
    {
     "data": {
      "text/plain": [
       "(50000, 20)"
      ]
     },
     "execution_count": 6,
     "metadata": {},
     "output_type": "execute_result"
    }
   ],
   "source": [
    "df.shape"
   ]
  },
  {
   "cell_type": "code",
   "execution_count": 7,
   "id": "5043b68a",
   "metadata": {},
   "outputs": [
    {
     "data": {
      "text/plain": [
       "False    50000\n",
       "Name: Case, dtype: int64"
      ]
     },
     "execution_count": 7,
     "metadata": {},
     "output_type": "execute_result"
    }
   ],
   "source": [
    "df.Case.value_counts()"
   ]
  },
  {
   "cell_type": "code",
   "execution_count": 8,
   "id": "61acb87f",
   "metadata": {},
   "outputs": [],
   "source": [
    "def to_sequence(data, timesteps=1):\n",
    "    n_features=data.shape[2]\n",
    "    x = []\n",
    "    y = []\n",
    "    for i in range(len(data)-timesteps):\n",
    "        # takes a window of data of specified timesteps\n",
    "        \n",
    "        _x = data[i:(i+timesteps)]\n",
    "        _x = _x.reshape(timesteps, n_features)\n",
    "#         print(_x.shape)\n",
    "        _y = data[i+timesteps]\n",
    "        _y = _y.reshape(n_features)\n",
    "#         print(_y.shape)\n",
    "        x.append(_x)\n",
    "        y.append(_y)\n",
    "\n",
    "        \n",
    "    return np.array(x), np.array(y)"
   ]
  },
  {
   "cell_type": "code",
   "execution_count": 9,
   "id": "4efa0cc3",
   "metadata": {
    "scrolled": true
   },
   "outputs": [
    {
     "name": "stdout",
     "output_type": "stream",
     "text": [
      "(49961, 5)\n"
     ]
    }
   ],
   "source": [
    "df_total = df[feature_list]\n",
    "window = 40\n",
    "df_total = df_total.rolling(window).mean()\n",
    "# due to the moving average we the first (window-1) rows become NaN so we remove them\n",
    "df_total = df_total.loc[window-1:]\n",
    "print(df_total.shape)\n"
   ]
  },
  {
   "cell_type": "code",
   "execution_count": 10,
   "id": "e5d89115",
   "metadata": {},
   "outputs": [
    {
     "name": "stdout",
     "output_type": "stream",
     "text": [
      "Train size: (44926, 5) | Valid size: (5035, 5)\n"
     ]
    }
   ],
   "source": [
    "train_size = len(df_total)*0.9\n",
    "df_train, df_valid = df_total.loc[:train_size],df_total.loc[train_size:] \n",
    "print(f\"Train size: {df_train.shape} | Valid size: {df_valid.shape}\")"
   ]
  },
  {
   "cell_type": "code",
   "execution_count": 11,
   "id": "c83ce91e",
   "metadata": {},
   "outputs": [
    {
     "name": "stdout",
     "output_type": "stream",
     "text": [
      "X_train: (44876, 50, 5) | y_train: (44876, 5)\n",
      "X_valid: (4985, 50, 5) | y_valid: (4985, 5)\n"
     ]
    }
   ],
   "source": [
    "train = np.expand_dims(df_train, axis=1)\n",
    "valid = np.expand_dims(df_valid, axis=1)\n",
    "\n",
    "x_train, y_train = to_sequence(train, timesteps=TIMESTEP)\n",
    "x_valid, y_valid = to_sequence(valid, timesteps=TIMESTEP)\n",
    "\n",
    "print(f\"X_train: {x_train.shape} | y_train: {y_train.shape}\")\n",
    "print(f\"X_valid: {x_valid.shape} | y_valid: {y_valid.shape}\")"
   ]
  },
  {
   "cell_type": "markdown",
   "id": "634ab8c3",
   "metadata": {},
   "source": [
    "## 2. Data Loader"
   ]
  },
  {
   "cell_type": "code",
   "execution_count": 12,
   "id": "2248c491",
   "metadata": {},
   "outputs": [],
   "source": [
    "x_train_torch, y_train_torch = torch.Tensor(x_train), torch.Tensor(y_train)\n",
    "x_valid_torch, y_valid_torch = torch.Tensor(x_valid), torch.Tensor(y_valid)\n",
    "\n",
    "train_dataset = TensorDataset(x_train_torch, y_train_torch)\n",
    "valid_dataset = TensorDataset(x_valid_torch, y_valid_torch)"
   ]
  },
  {
   "cell_type": "code",
   "execution_count": 13,
   "id": "5b100fc8",
   "metadata": {},
   "outputs": [],
   "source": [
    "train_loader = DataLoader(train_dataset, batch_size=BATCH_SIZE, shuffle=False)\n",
    "valid_loader = DataLoader(valid_dataset, batch_size=BATCH_SIZE, shuffle=False)"
   ]
  },
  {
   "cell_type": "code",
   "execution_count": 14,
   "id": "22e5cbb1",
   "metadata": {},
   "outputs": [
    {
     "name": "stdout",
     "output_type": "stream",
     "text": [
      "X Train batch shape: torch.Size([32, 50, 5])\n",
      "Y Train batch shape: torch.Size([32, 5])\n"
     ]
    }
   ],
   "source": [
    "x_train, y_train = next(iter(train_loader))\n",
    "print(f\"X Train batch shape: {x_train.size()}\")\n",
    "print(f\"Y Train batch shape: {y_train.size()}\")"
   ]
  },
  {
   "cell_type": "markdown",
   "id": "9221ed98",
   "metadata": {},
   "source": [
    "## 3. Model Building"
   ]
  },
  {
   "cell_type": "code",
   "execution_count": 15,
   "id": "b1ac5198",
   "metadata": {},
   "outputs": [
    {
     "name": "stdout",
     "output_type": "stream",
     "text": [
      "Using: cpu\n"
     ]
    }
   ],
   "source": [
    "device = torch.device('cuda') if torch.cuda.is_available() else torch.device('cpu')\n",
    "print(\"Using:\", device)"
   ]
  },
  {
   "cell_type": "markdown",
   "id": "5d792f5d",
   "metadata": {},
   "source": [
    "## 3.1. LSTM \n",
    "LSTM: https://pytorch.org/docs/stable/generated/torch.nn.LSTM.html\n",
    "\n",
    "1. `input, (h_0, c_0)`\n",
    "    * input: `(N, L, Hin)`\n",
    "    * h_0: tensor of shape `(num_layers, N,hidden_size)`, defaults to zeros \n",
    "    * c_0: tensor of shape `(num_layers, N, Hcell)`\n",
    "2. `output, (h_n, c_n)`\n",
    "    * output: `(N,L,hidden_size)`\n",
    "    * h_n: containing final hidden state for each element in the sequence: `(num_layers, N, hidden_size)`\n",
    "    * c_0:  `(num_layers, N, Hcell)`"
   ]
  },
  {
   "cell_type": "code",
   "execution_count": 16,
   "id": "45b536dc",
   "metadata": {
    "scrolled": true
   },
   "outputs": [],
   "source": [
    "class LSTMModel(nn.Module):\n",
    "    \"\"\"\n",
    "    Attributes:\n",
    "        input_size: number of expected features in X\n",
    "        hidden_size: how many LSTM cells are there in each hidden layer\n",
    "        num_layers: how many stacked LSTMs we want to use\n",
    "        output_dim: LSTM output shape\n",
    "    \"\"\"\n",
    "    def __init__(self, input_size, hidden_size, num_layers, output_dim, print_info):\n",
    "        super(LSTMModel, self).__init__()\n",
    "        self.print_info = print_info\n",
    "        \n",
    "        self.hidden_size = hidden_size\n",
    "        self.num_layers = num_layers\n",
    "                \n",
    "        # LSTM\n",
    "        self.lstm = nn.LSTM(input_size, hidden_size, num_layers, batch_first=True)\n",
    "        # Fully Connected\n",
    "        # Output_dim == number of features (1 pred per feature)\n",
    "        self.fc = nn.Linear(hidden_size, output_dim)\n",
    "        \n",
    "    def _init_hidden(self, X):\n",
    "        batch_size = X.size(0)\n",
    "        device = X.device\n",
    "        h0 = torch.zeros(self.num_layers, batch_size, self.hidden_size).to(device)\n",
    "        c0 = torch.zeros(self.num_layers, batch_size, self.hidden_size).to(device)\n",
    "        \n",
    "        return h0, c0\n",
    "        \n",
    "    def forward(self, X):\n",
    "        \"\"\"\n",
    "        input (X): should be of shape (batch_size, seq_length, hidden_size)\n",
    "        \"\"\"\n",
    "        # initialize hidden and cell states\n",
    "        h0, c0 = self._init_hidden(X)\n",
    "        # call lstm\n",
    "        out, (hn, cn) = self.lstm(X, (h0.detach(), c0.detach()))\n",
    "        # for plotting\n",
    "        init_out = out\n",
    "        # out: batch_size, seq_len, hidden_size\n",
    "        # out(N, 28, 128)\n",
    "        out = out[:,-1,:]\n",
    "        out_reshaped = out\n",
    "        # we want last timestep: out (N, 128)\n",
    "        out = self.fc(out)\n",
    "        # batch_size, output_dim\n",
    "        \n",
    "        if self.print_info:\n",
    "            print('X shape:', X.shape)\n",
    "            print(f\"h0 shape: {h0.shape}, c0 shape: {c0.shape}\")\n",
    "            print('init_out shape:', init_out.shape)\n",
    "            print('output_reshaped', out_reshaped.shape)\n",
    "            print('out shape:', out.shape)\n",
    "            \n",
    "        return out\n",
    "        "
   ]
  },
  {
   "cell_type": "code",
   "execution_count": 17,
   "id": "9c08a06c",
   "metadata": {},
   "outputs": [
    {
     "name": "stdout",
     "output_type": "stream",
     "text": [
      "LSTMModel(\n",
      "  (lstm): LSTM(5, 32, batch_first=True)\n",
      "  (fc): Linear(in_features=32, out_features=5, bias=True)\n",
      ")\n"
     ]
    }
   ],
   "source": [
    "#  input_size: number of expected features in X\n",
    "#  hidden_size: how many LSTM cells are there in each hidden layer\n",
    "#  num_layers: how many stacked LSTMs we want to use\n",
    "\n",
    "input_size = 5\n",
    "hidden_size = 32\n",
    "num_layers = 1\n",
    "output_dim = 5\n",
    "\n",
    "sequence_dim = TIMESTEP\n",
    "\n",
    "# instatiate model\n",
    "model = LSTMModel(input_size, hidden_size, num_layers, output_dim, print_info=False)\n",
    "# moving model to the GPU \n",
    "model = model.to(device)\n",
    "print(model)"
   ]
  },
  {
   "cell_type": "code",
   "execution_count": 18,
   "id": "5ff7885e",
   "metadata": {},
   "outputs": [],
   "source": [
    "# optimizer\n",
    "optimizer = optim.Adam(model.parameters(), lr=0.0001)\n",
    "# loss\n",
    "criterion = torch.nn.MSELoss()"
   ]
  },
  {
   "cell_type": "markdown",
   "id": "09904b66",
   "metadata": {},
   "source": [
    "## 4. Training"
   ]
  },
  {
   "cell_type": "code",
   "execution_count": 19,
   "id": "88f2c340",
   "metadata": {},
   "outputs": [
    {
     "name": "stdout",
     "output_type": "stream",
     "text": [
      "Length of Train Loader 1403 batches of 32\n"
     ]
    }
   ],
   "source": [
    "print(f\"Length of Train Loader {len(train_loader)} batches of {BATCH_SIZE}\")"
   ]
  },
  {
   "cell_type": "code",
   "execution_count": 20,
   "id": "e75ff20c",
   "metadata": {},
   "outputs": [],
   "source": [
    "def train_step(model, train_loader, criterion, optimizer, device):\n",
    "    \"\"\"\n",
    "    Function responsible for performing learning for one epoch.\n",
    "    Attributes:\n",
    "        model: model to be trained\n",
    "        train_loader: data loader for the training set\n",
    "        criterion: loss function\n",
    "        optimizer: optimizer used for updating the loss\n",
    "    Returns:\n",
    "        train_loss: average training loss from 1 epoch \n",
    "    \"\"\"\n",
    "    # training mode\n",
    "    model.train()\n",
    "    \n",
    "    train_loss = 0\n",
    "    # we track the batch index \n",
    "    for batch_idx, (x_batch, y_batch) in enumerate(train_loader):\n",
    "        \n",
    "        # moving data to the GPU \n",
    "        x_batch = x_batch.to(device)\n",
    "        y_batch = y_batch.to(device)\n",
    "        \n",
    "        # prediction\n",
    "        yhat = model(x_batch)\n",
    "        \n",
    "        # calculate loss\n",
    "        loss = criterion(y_batch, yhat)\n",
    "        train_loss += loss.item()\n",
    "        \n",
    "        # zero gradient\n",
    "        optimizer.zero_grad()\n",
    "        \n",
    "        # backprop gradient\n",
    "        loss.backward()\n",
    "        \n",
    "        # loss step\n",
    "        optimizer.step()\n",
    "        \n",
    "        if batch_idx % 100 == 0:\n",
    "            print('\\r', 'Training [{}/{} ({:.0f}%)] \\tLoss: {:.6f})]'.format(\n",
    "                batch_idx + 1, len(train_loader),\n",
    "                (batch_idx + 1) * 100 / len(train_loader),\n",
    "                loss.item()), sep='', end='', flush=True)\n",
    "        \n",
    "    train_loss = train_loss/ len(train_loader)\n",
    "    return train_loss"
   ]
  },
  {
   "cell_type": "code",
   "execution_count": 21,
   "id": "e6cb2e1a",
   "metadata": {},
   "outputs": [],
   "source": [
    "def validation_step(model, valid_loader, criterion, device):\n",
    "    \"\"\"\n",
    "    Function responsible for performing evaluation of trained model on the test set for one epoch.\n",
    "    Attributes:\n",
    "        model: trained model to be used\n",
    "        valid_loader: data loader for the validation set\n",
    "        criterion: loss function\n",
    "    Returns:\n",
    "        valid_loss: average validation loss from 1 epoch \n",
    "    \"\"\"\n",
    "    # no training, equivalent to model.learn(False)\n",
    "    model.eval()\n",
    "    \n",
    "    # set test loss\n",
    "    valid_loss = 0\n",
    "    # turn inference\n",
    "    with torch.inference_mode():\n",
    "        for batch_idx, (x_batch, y_batch) in enumerate(valid_loader):\n",
    "\n",
    "            x_batch = x_batch.to(device)\n",
    "            y_batch = y_batch.to(device)\n",
    "\n",
    "            yhat = model(x_batch)\n",
    "\n",
    "            loss = criterion(y_batch, yhat)\n",
    "            valid_loss += loss.item()\n",
    "        \n",
    "        print('\\r', 'Validation [{}/{} ({:.0f}%)] \\tLoss: {:.6f})]'.format(\n",
    "            batch_idx + 1, len(valid_loader),\n",
    "            (batch_idx + 1) * 100 / len(valid_loader),\n",
    "            loss.item()), sep='', end='', flush=True)\n",
    "        \n",
    "        valid_loss = valid_loss/ len(valid_loader)\n",
    "        return valid_loss"
   ]
  },
  {
   "cell_type": "code",
   "execution_count": 22,
   "id": "f1008e2e",
   "metadata": {},
   "outputs": [],
   "source": [
    "def train(model, train_loader, valid_loader, optimizer, criterion, epochs, device):\n",
    "    \"\"\"\n",
    "    Function responsible for performing learning for multiple epochs\n",
    "    Attributes:\n",
    "        model: model to be trained\n",
    "        train_loader: data loader for the training set\n",
    "        criterion: loss function\n",
    "        optimizer: optimizer used for updating the loss\n",
    "    Returns:\n",
    "        results: dictionary of results\n",
    "    \"\"\"\n",
    "    # dictionary of results\n",
    "    results = {\"train_loss\": [],\n",
    "              \"valid_loss\": []}\n",
    "    \n",
    "    for epoch in tqdm(range(epochs)):\n",
    "        train_loss = train_step(model, train_loader, criterion, optimizer, device)\n",
    "        print('====> Epoch: {} Training Average loss: {:.6f}'.format(epoch, train_loss))\n",
    "        \n",
    "        valid_loss = validation_step(model, valid_loader, criterion, device)\n",
    "        print('====> Validation Average loss: {:.6f}'.format(valid_loss))\n",
    "#         print(f\"Epoch: {epoch} | Train loss: {train_loss} | Test loss: {test_loss}\")\n",
    "        \n",
    "        # update results dicts\n",
    "        results['train_loss'].append(train_loss)\n",
    "        results['valid_loss'].append(valid_loss)\n",
    "        \n",
    "    return results"
   ]
  },
  {
   "cell_type": "code",
   "execution_count": 23,
   "id": "ee785473",
   "metadata": {},
   "outputs": [],
   "source": [
    "def plot_loss_curves(results):\n",
    "    loss = results['train_loss']\n",
    "    valid_loss = results['valid_loss']\n",
    "    \n",
    "    epochs = range(len(results['train_loss']))\n",
    "    \n",
    "    plt.figure()\n",
    "    plt.title('Training Curve')\n",
    "    plt.plot(epochs, loss, label='Training Loss')\n",
    "    plt.plot(epochs, valid_loss,label='Validation Loss')\n",
    "    plt.xlabel('Epoch')\n",
    "    plt.ylabel('Loss')\n",
    "    plt.legend()\n",
    "    plt.grid()\n",
    "    plt.show()"
   ]
  },
  {
   "cell_type": "code",
   "execution_count": 24,
   "id": "9ae3f44b",
   "metadata": {},
   "outputs": [
    {
     "data": {
      "application/json": {
       "ascii": false,
       "bar_format": null,
       "colour": null,
       "elapsed": 0.01491546630859375,
       "initial": 0,
       "n": 0,
       "ncols": null,
       "nrows": 24,
       "postfix": null,
       "prefix": "",
       "rate": null,
       "total": 10,
       "unit": "it",
       "unit_divisor": 1000,
       "unit_scale": false
      },
      "application/vnd.jupyter.widget-view+json": {
       "model_id": "f35949f5e05944f69abfc836e164b6cb",
       "version_major": 2,
       "version_minor": 0
      },
      "text/plain": [
       "  0%|          | 0/10 [00:00<?, ?it/s]"
      ]
     },
     "metadata": {},
     "output_type": "display_data"
    },
    {
     "name": "stdout",
     "output_type": "stream",
     "text": [
      "Training [1401/1403 (100%)] \tLoss: 0.605890)]====> Epoch: 0 Training Average loss: 1.660478\n",
      "Validation [156/156 (100%)] \tLoss: 0.553165)]====> Validation Average loss: 0.521765\n",
      "Training [1401/1403 (100%)] \tLoss: 0.243637)]====> Epoch: 1 Training Average loss: 0.369179\n",
      "Validation [156/156 (100%)] \tLoss: 0.138560)]====> Validation Average loss: 0.203734\n",
      "Training [1401/1403 (100%)] \tLoss: 0.036713)]====> Epoch: 2 Training Average loss: 0.115583\n",
      "Validation [156/156 (100%)] \tLoss: 0.023467)]====> Validation Average loss: 0.046699\n",
      "Training [1401/1403 (100%)] \tLoss: 0.009605)]====> Epoch: 3 Training Average loss: 0.033971\n",
      "Validation [156/156 (100%)] \tLoss: 0.008302)]====> Validation Average loss: 0.019886\n",
      "Training [1401/1403 (100%)] \tLoss: 0.004939)]====> Epoch: 4 Training Average loss: 0.016273\n",
      "Validation [156/156 (100%)] \tLoss: 0.007385)]====> Validation Average loss: 0.010885\n",
      "Training [1401/1403 (100%)] \tLoss: 0.002040)]====> Epoch: 5 Training Average loss: 0.009617\n",
      "Validation [156/156 (100%)] \tLoss: 0.003338)]====> Validation Average loss: 0.005924\n",
      "Training [1401/1403 (100%)] \tLoss: 0.001401)]====> Epoch: 6 Training Average loss: 0.006550\n",
      "Validation [156/156 (100%)] \tLoss: 0.001145)]====> Validation Average loss: 0.004647\n",
      "Training [1401/1403 (100%)] \tLoss: 0.001073)]====> Epoch: 7 Training Average loss: 0.005187\n",
      "Validation [156/156 (100%)] \tLoss: 0.001094)]====> Validation Average loss: 0.003381\n",
      "Training [1401/1403 (100%)] \tLoss: 0.000812)]====> Epoch: 8 Training Average loss: 0.004613\n",
      "Validation [156/156 (100%)] \tLoss: 0.000939)]====> Validation Average loss: 0.002563\n",
      "Training [1401/1403 (100%)] \tLoss: 0.000931)]====> Epoch: 9 Training Average loss: 0.003814\n",
      "Validation [156/156 (100%)] \tLoss: 0.001149)]====> Validation Average loss: 0.002469\n"
     ]
    }
   ],
   "source": [
    "results_history = train(model, train_loader, valid_loader, optimizer, criterion, 10, device)"
   ]
  },
  {
   "cell_type": "code",
   "execution_count": 25,
   "id": "83072471",
   "metadata": {},
   "outputs": [
    {
     "data": {
      "image/png": "[encoded data removed]",
      "text/plain": [
       "<Figure size 640x480 with 1 Axes>"
      ]
     },
     "metadata": {},
     "output_type": "display_data"
    }
   ],
   "source": [
    "plot_loss_curves(results_history)"
   ]
  },
  {
   "cell_type": "code",
   "execution_count": null,
   "id": "df0aeb4f",
   "metadata": {},
   "outputs": [],
   "source": []
  },
  {
   "cell_type": "code",
   "execution_count": null,
   "id": "50cadf38",
   "metadata": {},
   "outputs": [],
   "source": []
  }
 ],
 "metadata": {
  "kernelspec": {
   "display_name": "Python 3 (ipykernel)",
   "language": "python",
   "name": "python3"
  },
  "language_info": {
   "codemirror_mode": {
    "name": "ipython",
    "version": 3
   },
   "file_extension": ".py",
   "mimetype": "text/x-python",
   "name": "python",
   "nbconvert_exporter": "python",
   "pygments_lexer": "ipython3",
   "version": "3.10.6"
  }
 },
 "nbformat": 4,
 "nbformat_minor": 5
}
